{
  "nbformat": 4,
  "nbformat_minor": 0,
  "metadata": {
    "colab": {
      "name": "example note book.ipynb",
      "provenance": []
    },
    "kernelspec": {
      "name": "python3",
      "display_name": "Python 3"
    }
  },
  "cells": [
    {
      "cell_type": "code",
      "metadata": {
        "id": "RskGna2HNvoQ"
      },
      "source": [
        "# this is the initial notebook"
      ],
      "execution_count": null,
      "outputs": []
    },
    {
      "cell_type": "code",
      "metadata": {
        "id": "kw6rSSbDR75z"
      },
      "source": [
        "#this is a chnage on sopolat and main branch"
      ],
      "execution_count": null,
      "outputs": []
    },
    {
      "cell_type": "code",
      "metadata": {
        "id": "QhYHZTSWPfKX"
      },
      "source": [
        "#this is another change  seccond extra"
      ],
      "execution_count": null,
      "outputs": []
    }
  ]
}