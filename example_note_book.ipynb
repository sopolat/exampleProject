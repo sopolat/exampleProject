{
  "nbformat": 4,
  "nbformat_minor": 0,
  "metadata": {
    "colab": {
      "name": "example note book.ipynb",
      "provenance": []
    },
    "kernelspec": {
      "name": "python3",
      "display_name": "Python 3"
    }
  },
  "cells": [
    {
      "cell_type": "code",
      "metadata": {
        "id": "RskGna2HNvoQ"
      },
      "source": [
        "# this is the initial notebook"
      ],
      "execution_count": null,
      "outputs": []
    }
  ]
}